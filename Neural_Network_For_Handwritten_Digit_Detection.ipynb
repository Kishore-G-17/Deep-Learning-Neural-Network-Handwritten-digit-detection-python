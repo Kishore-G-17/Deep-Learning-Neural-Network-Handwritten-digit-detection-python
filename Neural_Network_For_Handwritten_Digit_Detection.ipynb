{
    "cells": [
        {
            "cell_type": "code",
            "execution_count": 2,
            "source": [
                "import tensorflow as tf\r\n",
                "from tensorflow import keras\r\n",
                "import numpy as np\r\n",
                "import matplotlib.pyplot as plt\r\n",
                "%matplotlib inline"
            ],
            "outputs": [],
            "metadata": {}
        },
        {
            "cell_type": "code",
            "execution_count": 3,
            "source": [
                "#load the MNIST handwritten dataset from keras\r\n",
                "#split the loaded data into training data and testing data\r\n",
                "(x_train, y_train) , (x_test, y_test) = keras.datasets.mnist.load_data()"
            ],
            "outputs": [],
            "metadata": {}
        },
        {
            "cell_type": "code",
            "execution_count": 6,
            "source": [
                "len(x_train)"
            ],
            "outputs": [
                {
                    "output_type": "execute_result",
                    "data": {
                        "text/plain": [
                            "60000"
                        ]
                    },
                    "metadata": {},
                    "execution_count": 6
                }
            ],
            "metadata": {}
        },
        {
            "cell_type": "code",
            "execution_count": 7,
            "source": [
                "len(x_test)"
            ],
            "outputs": [
                {
                    "output_type": "execute_result",
                    "data": {
                        "text/plain": [
                            "10000"
                        ]
                    },
                    "metadata": {},
                    "execution_count": 7
                }
            ],
            "metadata": {}
        },
        {
            "cell_type": "code",
            "execution_count": 8,
            "source": [
                "#Two dimensional representation of handwritten number '5'( 0-black 255-white )\r\n",
                "x_train[0]"
            ],
            "outputs": [
                {
                    "output_type": "execute_result",
                    "data": {
                        "text/plain": [
                            "array([[  0,   0,   0,   0,   0,   0,   0,   0,   0,   0,   0,   0,   0,\n",
                            "          0,   0,   0,   0,   0,   0,   0,   0,   0,   0,   0,   0,   0,\n",
                            "          0,   0],\n",
                            "       [  0,   0,   0,   0,   0,   0,   0,   0,   0,   0,   0,   0,   0,\n",
                            "          0,   0,   0,   0,   0,   0,   0,   0,   0,   0,   0,   0,   0,\n",
                            "          0,   0],\n",
                            "       [  0,   0,   0,   0,   0,   0,   0,   0,   0,   0,   0,   0,   0,\n",
                            "          0,   0,   0,   0,   0,   0,   0,   0,   0,   0,   0,   0,   0,\n",
                            "          0,   0],\n",
                            "       [  0,   0,   0,   0,   0,   0,   0,   0,   0,   0,   0,   0,   0,\n",
                            "          0,   0,   0,   0,   0,   0,   0,   0,   0,   0,   0,   0,   0,\n",
                            "          0,   0],\n",
                            "       [  0,   0,   0,   0,   0,   0,   0,   0,   0,   0,   0,   0,   0,\n",
                            "          0,   0,   0,   0,   0,   0,   0,   0,   0,   0,   0,   0,   0,\n",
                            "          0,   0],\n",
                            "       [  0,   0,   0,   0,   0,   0,   0,   0,   0,   0,   0,   0,   3,\n",
                            "         18,  18,  18, 126, 136, 175,  26, 166, 255, 247, 127,   0,   0,\n",
                            "          0,   0],\n",
                            "       [  0,   0,   0,   0,   0,   0,   0,   0,  30,  36,  94, 154, 170,\n",
                            "        253, 253, 253, 253, 253, 225, 172, 253, 242, 195,  64,   0,   0,\n",
                            "          0,   0],\n",
                            "       [  0,   0,   0,   0,   0,   0,   0,  49, 238, 253, 253, 253, 253,\n",
                            "        253, 253, 253, 253, 251,  93,  82,  82,  56,  39,   0,   0,   0,\n",
                            "          0,   0],\n",
                            "       [  0,   0,   0,   0,   0,   0,   0,  18, 219, 253, 253, 253, 253,\n",
                            "        253, 198, 182, 247, 241,   0,   0,   0,   0,   0,   0,   0,   0,\n",
                            "          0,   0],\n",
                            "       [  0,   0,   0,   0,   0,   0,   0,   0,  80, 156, 107, 253, 253,\n",
                            "        205,  11,   0,  43, 154,   0,   0,   0,   0,   0,   0,   0,   0,\n",
                            "          0,   0],\n",
                            "       [  0,   0,   0,   0,   0,   0,   0,   0,   0,  14,   1, 154, 253,\n",
                            "         90,   0,   0,   0,   0,   0,   0,   0,   0,   0,   0,   0,   0,\n",
                            "          0,   0],\n",
                            "       [  0,   0,   0,   0,   0,   0,   0,   0,   0,   0,   0, 139, 253,\n",
                            "        190,   2,   0,   0,   0,   0,   0,   0,   0,   0,   0,   0,   0,\n",
                            "          0,   0],\n",
                            "       [  0,   0,   0,   0,   0,   0,   0,   0,   0,   0,   0,  11, 190,\n",
                            "        253,  70,   0,   0,   0,   0,   0,   0,   0,   0,   0,   0,   0,\n",
                            "          0,   0],\n",
                            "       [  0,   0,   0,   0,   0,   0,   0,   0,   0,   0,   0,   0,  35,\n",
                            "        241, 225, 160, 108,   1,   0,   0,   0,   0,   0,   0,   0,   0,\n",
                            "          0,   0],\n",
                            "       [  0,   0,   0,   0,   0,   0,   0,   0,   0,   0,   0,   0,   0,\n",
                            "         81, 240, 253, 253, 119,  25,   0,   0,   0,   0,   0,   0,   0,\n",
                            "          0,   0],\n",
                            "       [  0,   0,   0,   0,   0,   0,   0,   0,   0,   0,   0,   0,   0,\n",
                            "          0,  45, 186, 253, 253, 150,  27,   0,   0,   0,   0,   0,   0,\n",
                            "          0,   0],\n",
                            "       [  0,   0,   0,   0,   0,   0,   0,   0,   0,   0,   0,   0,   0,\n",
                            "          0,   0,  16,  93, 252, 253, 187,   0,   0,   0,   0,   0,   0,\n",
                            "          0,   0],\n",
                            "       [  0,   0,   0,   0,   0,   0,   0,   0,   0,   0,   0,   0,   0,\n",
                            "          0,   0,   0,   0, 249, 253, 249,  64,   0,   0,   0,   0,   0,\n",
                            "          0,   0],\n",
                            "       [  0,   0,   0,   0,   0,   0,   0,   0,   0,   0,   0,   0,   0,\n",
                            "          0,  46, 130, 183, 253, 253, 207,   2,   0,   0,   0,   0,   0,\n",
                            "          0,   0],\n",
                            "       [  0,   0,   0,   0,   0,   0,   0,   0,   0,   0,   0,   0,  39,\n",
                            "        148, 229, 253, 253, 253, 250, 182,   0,   0,   0,   0,   0,   0,\n",
                            "          0,   0],\n",
                            "       [  0,   0,   0,   0,   0,   0,   0,   0,   0,   0,  24, 114, 221,\n",
                            "        253, 253, 253, 253, 201,  78,   0,   0,   0,   0,   0,   0,   0,\n",
                            "          0,   0],\n",
                            "       [  0,   0,   0,   0,   0,   0,   0,   0,  23,  66, 213, 253, 253,\n",
                            "        253, 253, 198,  81,   2,   0,   0,   0,   0,   0,   0,   0,   0,\n",
                            "          0,   0],\n",
                            "       [  0,   0,   0,   0,   0,   0,  18, 171, 219, 253, 253, 253, 253,\n",
                            "        195,  80,   9,   0,   0,   0,   0,   0,   0,   0,   0,   0,   0,\n",
                            "          0,   0],\n",
                            "       [  0,   0,   0,   0,  55, 172, 226, 253, 253, 253, 253, 244, 133,\n",
                            "         11,   0,   0,   0,   0,   0,   0,   0,   0,   0,   0,   0,   0,\n",
                            "          0,   0],\n",
                            "       [  0,   0,   0,   0, 136, 253, 253, 253, 212, 135, 132,  16,   0,\n",
                            "          0,   0,   0,   0,   0,   0,   0,   0,   0,   0,   0,   0,   0,\n",
                            "          0,   0],\n",
                            "       [  0,   0,   0,   0,   0,   0,   0,   0,   0,   0,   0,   0,   0,\n",
                            "          0,   0,   0,   0,   0,   0,   0,   0,   0,   0,   0,   0,   0,\n",
                            "          0,   0],\n",
                            "       [  0,   0,   0,   0,   0,   0,   0,   0,   0,   0,   0,   0,   0,\n",
                            "          0,   0,   0,   0,   0,   0,   0,   0,   0,   0,   0,   0,   0,\n",
                            "          0,   0],\n",
                            "       [  0,   0,   0,   0,   0,   0,   0,   0,   0,   0,   0,   0,   0,\n",
                            "          0,   0,   0,   0,   0,   0,   0,   0,   0,   0,   0,   0,   0,\n",
                            "          0,   0]], dtype=uint8)"
                        ]
                    },
                    "metadata": {},
                    "execution_count": 8
                }
            ],
            "metadata": {}
        },
        {
            "cell_type": "code",
            "execution_count": 19,
            "source": [
                "#scale the x_train and x_test data to get more accurate results\r\n",
                "x_train = x_train/255\r\n",
                "x_test = x_test/255"
            ],
            "outputs": [],
            "metadata": {}
        },
        {
            "cell_type": "code",
            "execution_count": 20,
            "source": [
                "plt.matshow(x_train[0])"
            ],
            "outputs": [
                {
                    "output_type": "execute_result",
                    "data": {
                        "text/plain": [
                            "<matplotlib.image.AxesImage at 0x2699b80daf0>"
                        ]
                    },
                    "metadata": {},
                    "execution_count": 20
                },
                {
                    "output_type": "display_data",
                    "data": {
                        "text/plain": [
                            "<Figure size 288x288 with 1 Axes>"
                        ],
                        "image/png": "[encoded data removed]"
                    },
                    "metadata": {
                        "needs_background": "light"
                    }
                }
            ],
            "metadata": {}
        },
        {
            "cell_type": "code",
            "execution_count": 21,
            "source": [
                "#Correct digit number corresponding to the above number in picture.\r\n",
                "y_train[0]"
            ],
            "outputs": [
                {
                    "output_type": "execute_result",
                    "data": {
                        "text/plain": [
                            "5"
                        ]
                    },
                    "metadata": {},
                    "execution_count": 21
                }
            ],
            "metadata": {}
        },
        {
            "cell_type": "code",
            "execution_count": 22,
            "source": [
                "y_train[0:5]"
            ],
            "outputs": [
                {
                    "output_type": "execute_result",
                    "data": {
                        "text/plain": [
                            "array([5, 0, 4, 1, 9], dtype=uint8)"
                        ]
                    },
                    "metadata": {},
                    "execution_count": 22
                }
            ],
            "metadata": {}
        },
        {
            "cell_type": "code",
            "execution_count": 23,
            "source": [
                "x_train[0].shape"
            ],
            "outputs": [
                {
                    "output_type": "execute_result",
                    "data": {
                        "text/plain": [
                            "(28, 28)"
                        ]
                    },
                    "metadata": {},
                    "execution_count": 23
                }
            ],
            "metadata": {}
        },
        {
            "cell_type": "code",
            "execution_count": 24,
            "source": [
                "x_train.shape"
            ],
            "outputs": [
                {
                    "output_type": "execute_result",
                    "data": {
                        "text/plain": [
                            "(60000, 28, 28)"
                        ]
                    },
                    "metadata": {},
                    "execution_count": 24
                }
            ],
            "metadata": {}
        },
        {
            "cell_type": "code",
            "execution_count": 27,
            "source": [
                "#Flat the 28x28 matrix representation of number in picture.(2d array values to 1d array values) | training data\r\n",
                "x_train_flattened = x_train.reshape(len(x_train), len(x_train[0])*len(x_train[0]))\r\n",
                "x_train_flattened.shape"
            ],
            "outputs": [
                {
                    "output_type": "execute_result",
                    "data": {
                        "text/plain": [
                            "(60000, 784)"
                        ]
                    },
                    "metadata": {},
                    "execution_count": 27
                }
            ],
            "metadata": {}
        },
        {
            "cell_type": "code",
            "execution_count": 26,
            "source": [
                "len(x_test[0])"
            ],
            "outputs": [
                {
                    "output_type": "execute_result",
                    "data": {
                        "text/plain": [
                            "28"
                        ]
                    },
                    "metadata": {},
                    "execution_count": 26
                }
            ],
            "metadata": {}
        },
        {
            "cell_type": "code",
            "execution_count": 28,
            "source": [
                "#Flat the 28x28 2-D array format of data representing the handwritten digit in an image | Testing data \r\n",
                "x_test_flattened = x_test.reshape(len(x_test), len(x_test[0])*len(x_test[0]))\r\n",
                "x_test_flattened.shape"
            ],
            "outputs": [
                {
                    "output_type": "execute_result",
                    "data": {
                        "text/plain": [
                            "(10000, 784)"
                        ]
                    },
                    "metadata": {},
                    "execution_count": 28
                }
            ],
            "metadata": {}
        },
        {
            "cell_type": "code",
            "execution_count": 29,
            "source": [
                "x_train_flattened[0]"
            ],
            "outputs": [
                {
                    "output_type": "execute_result",
                    "data": {
                        "text/plain": [
                            "array([0.        , 0.        , 0.        , 0.        , 0.        ,\n",
                            "       0.        , 0.        , 0.        , 0.        , 0.        ,\n",
                            "       0.        , 0.        , 0.        , 0.        , 0.        ,\n",
                            "       0.        , 0.        , 0.        , 0.        , 0.        ,\n",
                            "       0.        , 0.        , 0.        , 0.        , 0.        ,\n",
                            "       0.        , 0.        , 0.        , 0.        , 0.        ,\n",
                            "       0.        , 0.        , 0.        , 0.        , 0.        ,\n",
                            "       0.        , 0.        , 0.        , 0.        , 0.        ,\n",
                            "       0.        , 0.        , 0.        , 0.        , 0.        ,\n",
                            "       0.        , 0.        , 0.        , 0.        , 0.        ,\n",
                            "       0.        , 0.        , 0.        , 0.        , 0.        ,\n",
                            "       0.        , 0.        , 0.        , 0.        , 0.        ,\n",
                            "       0.        , 0.        , 0.        , 0.        , 0.        ,\n",
                            "       0.        , 0.        , 0.        , 0.        , 0.        ,\n",
                            "       0.        , 0.        , 0.        , 0.        , 0.        ,\n",
                            "       0.        , 0.        , 0.        , 0.        , 0.        ,\n",
                            "       0.        , 0.        , 0.        , 0.        , 0.        ,\n",
                            "       0.        , 0.        , 0.        , 0.        , 0.        ,\n",
                            "       0.        , 0.        , 0.        , 0.        , 0.        ,\n",
                            "       0.        , 0.        , 0.        , 0.        , 0.        ,\n",
                            "       0.        , 0.        , 0.        , 0.        , 0.        ,\n",
                            "       0.        , 0.        , 0.        , 0.        , 0.        ,\n",
                            "       0.        , 0.        , 0.        , 0.        , 0.        ,\n",
                            "       0.        , 0.        , 0.        , 0.        , 0.        ,\n",
                            "       0.        , 0.        , 0.        , 0.        , 0.        ,\n",
                            "       0.        , 0.        , 0.        , 0.        , 0.        ,\n",
                            "       0.        , 0.        , 0.        , 0.        , 0.        ,\n",
                            "       0.        , 0.        , 0.        , 0.        , 0.        ,\n",
                            "       0.        , 0.        , 0.        , 0.        , 0.        ,\n",
                            "       0.        , 0.        , 0.        , 0.        , 0.        ,\n",
                            "       0.        , 0.        , 0.01176471, 0.07058824, 0.07058824,\n",
                            "       0.07058824, 0.49411765, 0.53333333, 0.68627451, 0.10196078,\n",
                            "       0.65098039, 1.        , 0.96862745, 0.49803922, 0.        ,\n",
                            "       0.        , 0.        , 0.        , 0.        , 0.        ,\n",
                            "       0.        , 0.        , 0.        , 0.        , 0.        ,\n",
                            "       0.        , 0.11764706, 0.14117647, 0.36862745, 0.60392157,\n",
                            "       0.66666667, 0.99215686, 0.99215686, 0.99215686, 0.99215686,\n",
                            "       0.99215686, 0.88235294, 0.6745098 , 0.99215686, 0.94901961,\n",
                            "       0.76470588, 0.25098039, 0.        , 0.        , 0.        ,\n",
                            "       0.        , 0.        , 0.        , 0.        , 0.        ,\n",
                            "       0.        , 0.        , 0.        , 0.19215686, 0.93333333,\n",
                            "       0.99215686, 0.99215686, 0.99215686, 0.99215686, 0.99215686,\n",
                            "       0.99215686, 0.99215686, 0.99215686, 0.98431373, 0.36470588,\n",
                            "       0.32156863, 0.32156863, 0.21960784, 0.15294118, 0.        ,\n",
                            "       0.        , 0.        , 0.        , 0.        , 0.        ,\n",
                            "       0.        , 0.        , 0.        , 0.        , 0.        ,\n",
                            "       0.        , 0.07058824, 0.85882353, 0.99215686, 0.99215686,\n",
                            "       0.99215686, 0.99215686, 0.99215686, 0.77647059, 0.71372549,\n",
                            "       0.96862745, 0.94509804, 0.        , 0.        , 0.        ,\n",
                            "       0.        , 0.        , 0.        , 0.        , 0.        ,\n",
                            "       0.        , 0.        , 0.        , 0.        , 0.        ,\n",
                            "       0.        , 0.        , 0.        , 0.        , 0.        ,\n",
                            "       0.31372549, 0.61176471, 0.41960784, 0.99215686, 0.99215686,\n",
                            "       0.80392157, 0.04313725, 0.        , 0.16862745, 0.60392157,\n",
                            "       0.        , 0.        , 0.        , 0.        , 0.        ,\n",
                            "       0.        , 0.        , 0.        , 0.        , 0.        ,\n",
                            "       0.        , 0.        , 0.        , 0.        , 0.        ,\n",
                            "       0.        , 0.        , 0.        , 0.        , 0.05490196,\n",
                            "       0.00392157, 0.60392157, 0.99215686, 0.35294118, 0.        ,\n",
                            "       0.        , 0.        , 0.        , 0.        , 0.        ,\n",
                            "       0.        , 0.        , 0.        , 0.        , 0.        ,\n",
                            "       0.        , 0.        , 0.        , 0.        , 0.        ,\n",
                            "       0.        , 0.        , 0.        , 0.        , 0.        ,\n",
                            "       0.        , 0.        , 0.        , 0.        , 0.54509804,\n",
                            "       0.99215686, 0.74509804, 0.00784314, 0.        , 0.        ,\n",
                            "       0.        , 0.        , 0.        , 0.        , 0.        ,\n",
                            "       0.        , 0.        , 0.        , 0.        , 0.        ,\n",
                            "       0.        , 0.        , 0.        , 0.        , 0.        ,\n",
                            "       0.        , 0.        , 0.        , 0.        , 0.        ,\n",
                            "       0.        , 0.        , 0.04313725, 0.74509804, 0.99215686,\n",
                            "       0.2745098 , 0.        , 0.        , 0.        , 0.        ,\n",
                            "       0.        , 0.        , 0.        , 0.        , 0.        ,\n",
                            "       0.        , 0.        , 0.        , 0.        , 0.        ,\n",
                            "       0.        , 0.        , 0.        , 0.        , 0.        ,\n",
                            "       0.        , 0.        , 0.        , 0.        , 0.        ,\n",
                            "       0.        , 0.1372549 , 0.94509804, 0.88235294, 0.62745098,\n",
                            "       0.42352941, 0.00392157, 0.        , 0.        , 0.        ,\n",
                            "       0.        , 0.        , 0.        , 0.        , 0.        ,\n",
                            "       0.        , 0.        , 0.        , 0.        , 0.        ,\n",
                            "       0.        , 0.        , 0.        , 0.        , 0.        ,\n",
                            "       0.        , 0.        , 0.        , 0.        , 0.        ,\n",
                            "       0.31764706, 0.94117647, 0.99215686, 0.99215686, 0.46666667,\n",
                            "       0.09803922, 0.        , 0.        , 0.        , 0.        ,\n",
                            "       0.        , 0.        , 0.        , 0.        , 0.        ,\n",
                            "       0.        , 0.        , 0.        , 0.        , 0.        ,\n",
                            "       0.        , 0.        , 0.        , 0.        , 0.        ,\n",
                            "       0.        , 0.        , 0.        , 0.        , 0.17647059,\n",
                            "       0.72941176, 0.99215686, 0.99215686, 0.58823529, 0.10588235,\n",
                            "       0.        , 0.        , 0.        , 0.        , 0.        ,\n",
                            "       0.        , 0.        , 0.        , 0.        , 0.        ,\n",
                            "       0.        , 0.        , 0.        , 0.        , 0.        ,\n",
                            "       0.        , 0.        , 0.        , 0.        , 0.        ,\n",
                            "       0.        , 0.        , 0.        , 0.0627451 , 0.36470588,\n",
                            "       0.98823529, 0.99215686, 0.73333333, 0.        , 0.        ,\n",
                            "       0.        , 0.        , 0.        , 0.        , 0.        ,\n",
                            "       0.        , 0.        , 0.        , 0.        , 0.        ,\n",
                            "       0.        , 0.        , 0.        , 0.        , 0.        ,\n",
                            "       0.        , 0.        , 0.        , 0.        , 0.        ,\n",
                            "       0.        , 0.        , 0.        , 0.97647059, 0.99215686,\n",
                            "       0.97647059, 0.25098039, 0.        , 0.        , 0.        ,\n",
                            "       0.        , 0.        , 0.        , 0.        , 0.        ,\n",
                            "       0.        , 0.        , 0.        , 0.        , 0.        ,\n",
                            "       0.        , 0.        , 0.        , 0.        , 0.        ,\n",
                            "       0.        , 0.        , 0.        , 0.18039216, 0.50980392,\n",
                            "       0.71764706, 0.99215686, 0.99215686, 0.81176471, 0.00784314,\n",
                            "       0.        , 0.        , 0.        , 0.        , 0.        ,\n",
                            "       0.        , 0.        , 0.        , 0.        , 0.        ,\n",
                            "       0.        , 0.        , 0.        , 0.        , 0.        ,\n",
                            "       0.        , 0.        , 0.        , 0.        , 0.15294118,\n",
                            "       0.58039216, 0.89803922, 0.99215686, 0.99215686, 0.99215686,\n",
                            "       0.98039216, 0.71372549, 0.        , 0.        , 0.        ,\n",
                            "       0.        , 0.        , 0.        , 0.        , 0.        ,\n",
                            "       0.        , 0.        , 0.        , 0.        , 0.        ,\n",
                            "       0.        , 0.        , 0.        , 0.        , 0.        ,\n",
                            "       0.09411765, 0.44705882, 0.86666667, 0.99215686, 0.99215686,\n",
                            "       0.99215686, 0.99215686, 0.78823529, 0.30588235, 0.        ,\n",
                            "       0.        , 0.        , 0.        , 0.        , 0.        ,\n",
                            "       0.        , 0.        , 0.        , 0.        , 0.        ,\n",
                            "       0.        , 0.        , 0.        , 0.        , 0.        ,\n",
                            "       0.        , 0.09019608, 0.25882353, 0.83529412, 0.99215686,\n",
                            "       0.99215686, 0.99215686, 0.99215686, 0.77647059, 0.31764706,\n",
                            "       0.00784314, 0.        , 0.        , 0.        , 0.        ,\n",
                            "       0.        , 0.        , 0.        , 0.        , 0.        ,\n",
                            "       0.        , 0.        , 0.        , 0.        , 0.        ,\n",
                            "       0.        , 0.        , 0.07058824, 0.67058824, 0.85882353,\n",
                            "       0.99215686, 0.99215686, 0.99215686, 0.99215686, 0.76470588,\n",
                            "       0.31372549, 0.03529412, 0.        , 0.        , 0.        ,\n",
                            "       0.        , 0.        , 0.        , 0.        , 0.        ,\n",
                            "       0.        , 0.        , 0.        , 0.        , 0.        ,\n",
                            "       0.        , 0.        , 0.        , 0.21568627, 0.6745098 ,\n",
                            "       0.88627451, 0.99215686, 0.99215686, 0.99215686, 0.99215686,\n",
                            "       0.95686275, 0.52156863, 0.04313725, 0.        , 0.        ,\n",
                            "       0.        , 0.        , 0.        , 0.        , 0.        ,\n",
                            "       0.        , 0.        , 0.        , 0.        , 0.        ,\n",
                            "       0.        , 0.        , 0.        , 0.        , 0.        ,\n",
                            "       0.        , 0.53333333, 0.99215686, 0.99215686, 0.99215686,\n",
                            "       0.83137255, 0.52941176, 0.51764706, 0.0627451 , 0.        ,\n",
                            "       0.        , 0.        , 0.        , 0.        , 0.        ,\n",
                            "       0.        , 0.        , 0.        , 0.        , 0.        ,\n",
                            "       0.        , 0.        , 0.        , 0.        , 0.        ,\n",
                            "       0.        , 0.        , 0.        , 0.        , 0.        ,\n",
                            "       0.        , 0.        , 0.        , 0.        , 0.        ,\n",
                            "       0.        , 0.        , 0.        , 0.        , 0.        ,\n",
                            "       0.        , 0.        , 0.        , 0.        , 0.        ,\n",
                            "       0.        , 0.        , 0.        , 0.        , 0.        ,\n",
                            "       0.        , 0.        , 0.        , 0.        , 0.        ,\n",
                            "       0.        , 0.        , 0.        , 0.        , 0.        ,\n",
                            "       0.        , 0.        , 0.        , 0.        , 0.        ,\n",
                            "       0.        , 0.        , 0.        , 0.        , 0.        ,\n",
                            "       0.        , 0.        , 0.        , 0.        , 0.        ,\n",
                            "       0.        , 0.        , 0.        , 0.        , 0.        ,\n",
                            "       0.        , 0.        , 0.        , 0.        , 0.        ,\n",
                            "       0.        , 0.        , 0.        , 0.        , 0.        ,\n",
                            "       0.        , 0.        , 0.        , 0.        , 0.        ,\n",
                            "       0.        , 0.        , 0.        , 0.        , 0.        ,\n",
                            "       0.        , 0.        , 0.        , 0.        , 0.        ,\n",
                            "       0.        , 0.        , 0.        , 0.        ])"
                        ]
                    },
                    "metadata": {},
                    "execution_count": 29
                }
            ],
            "metadata": {}
        },
        {
            "cell_type": "code",
            "execution_count": 18,
            "source": [
                "#matshow function works only with 2D array format data.\r\n",
                "plt.matshow(x_train_flattened[0])"
            ],
            "outputs": [
                {
                    "output_type": "error",
                    "ename": "ValueError",
                    "evalue": "not enough values to unpack (expected 2, got 1)",
                    "traceback": [
                        "\u001b[1;31m---------------------------------------------------------------------------\u001b[0m",
                        "\u001b[1;31mValueError\u001b[0m                                Traceback (most recent call last)",
                        "\u001b[1;32m<ipython-input-18-5a41d3b0c71c>\u001b[0m in \u001b[0;36m<module>\u001b[1;34m\u001b[0m\n\u001b[1;32m----> 1\u001b[1;33m \u001b[0mplt\u001b[0m\u001b[1;33m.\u001b[0m\u001b[0mmatshow\u001b[0m\u001b[1;33m(\u001b[0m\u001b[0mx_train_flattened\u001b[0m\u001b[1;33m[\u001b[0m\u001b[1;36m0\u001b[0m\u001b[1;33m]\u001b[0m\u001b[1;33m)\u001b[0m\u001b[1;33m\u001b[0m\u001b[1;33m\u001b[0m\u001b[0m\n\u001b[0m",
                        "\u001b[1;32m~\\AppData\\Local\\Programs\\Python\\Python38\\lib\\site-packages\\matplotlib\\pyplot.py\u001b[0m in \u001b[0;36mmatshow\u001b[1;34m(A, fignum, **kwargs)\u001b[0m\n\u001b[0;32m   2458\u001b[0m         \u001b[1;31m# Extract actual aspect ratio of array and make appropriately sized\u001b[0m\u001b[1;33m\u001b[0m\u001b[1;33m\u001b[0m\u001b[1;33m\u001b[0m\u001b[0m\n\u001b[0;32m   2459\u001b[0m         \u001b[1;31m# figure.\u001b[0m\u001b[1;33m\u001b[0m\u001b[1;33m\u001b[0m\u001b[1;33m\u001b[0m\u001b[0m\n\u001b[1;32m-> 2460\u001b[1;33m         \u001b[0mfig\u001b[0m \u001b[1;33m=\u001b[0m \u001b[0mfigure\u001b[0m\u001b[1;33m(\u001b[0m\u001b[0mfignum\u001b[0m\u001b[1;33m,\u001b[0m \u001b[0mfigsize\u001b[0m\u001b[1;33m=\u001b[0m\u001b[0mfigaspect\u001b[0m\u001b[1;33m(\u001b[0m\u001b[0mA\u001b[0m\u001b[1;33m)\u001b[0m\u001b[1;33m)\u001b[0m\u001b[1;33m\u001b[0m\u001b[1;33m\u001b[0m\u001b[0m\n\u001b[0m\u001b[0;32m   2461\u001b[0m         \u001b[0max\u001b[0m \u001b[1;33m=\u001b[0m \u001b[0mfig\u001b[0m\u001b[1;33m.\u001b[0m\u001b[0madd_axes\u001b[0m\u001b[1;33m(\u001b[0m\u001b[1;33m[\u001b[0m\u001b[1;36m0.15\u001b[0m\u001b[1;33m,\u001b[0m \u001b[1;36m0.09\u001b[0m\u001b[1;33m,\u001b[0m \u001b[1;36m0.775\u001b[0m\u001b[1;33m,\u001b[0m \u001b[1;36m0.775\u001b[0m\u001b[1;33m]\u001b[0m\u001b[1;33m)\u001b[0m\u001b[1;33m\u001b[0m\u001b[1;33m\u001b[0m\u001b[0m\n\u001b[0;32m   2462\u001b[0m     \u001b[0mim\u001b[0m \u001b[1;33m=\u001b[0m \u001b[0max\u001b[0m\u001b[1;33m.\u001b[0m\u001b[0mmatshow\u001b[0m\u001b[1;33m(\u001b[0m\u001b[0mA\u001b[0m\u001b[1;33m,\u001b[0m \u001b[1;33m**\u001b[0m\u001b[0mkwargs\u001b[0m\u001b[1;33m)\u001b[0m\u001b[1;33m\u001b[0m\u001b[1;33m\u001b[0m\u001b[0m\n",
                        "\u001b[1;32m~\\AppData\\Local\\Programs\\Python\\Python38\\lib\\site-packages\\matplotlib\\figure.py\u001b[0m in \u001b[0;36mfigaspect\u001b[1;34m(arg)\u001b[0m\n\u001b[0;32m   3216\u001b[0m     \u001b[1;31m# Extract the aspect ratio of the array\u001b[0m\u001b[1;33m\u001b[0m\u001b[1;33m\u001b[0m\u001b[1;33m\u001b[0m\u001b[0m\n\u001b[0;32m   3217\u001b[0m     \u001b[1;32mif\u001b[0m \u001b[0misarray\u001b[0m\u001b[1;33m:\u001b[0m\u001b[1;33m\u001b[0m\u001b[1;33m\u001b[0m\u001b[0m\n\u001b[1;32m-> 3218\u001b[1;33m         \u001b[0mnr\u001b[0m\u001b[1;33m,\u001b[0m \u001b[0mnc\u001b[0m \u001b[1;33m=\u001b[0m \u001b[0marg\u001b[0m\u001b[1;33m.\u001b[0m\u001b[0mshape\u001b[0m\u001b[1;33m[\u001b[0m\u001b[1;33m:\u001b[0m\u001b[1;36m2\u001b[0m\u001b[1;33m]\u001b[0m\u001b[1;33m\u001b[0m\u001b[1;33m\u001b[0m\u001b[0m\n\u001b[0m\u001b[0;32m   3219\u001b[0m         \u001b[0marr_ratio\u001b[0m \u001b[1;33m=\u001b[0m \u001b[0mnr\u001b[0m \u001b[1;33m/\u001b[0m \u001b[0mnc\u001b[0m\u001b[1;33m\u001b[0m\u001b[1;33m\u001b[0m\u001b[0m\n\u001b[0;32m   3220\u001b[0m     \u001b[1;32melse\u001b[0m\u001b[1;33m:\u001b[0m\u001b[1;33m\u001b[0m\u001b[1;33m\u001b[0m\u001b[0m\n",
                        "\u001b[1;31mValueError\u001b[0m: not enough values to unpack (expected 2, got 1)"
                    ]
                }
            ],
            "metadata": {}
        },
        {
            "cell_type": "code",
            "execution_count": 30,
            "source": [
                "#Create the simple neural network with two layers namely input layer and output layer\r\n",
                "model = keras.Sequential(\r\n",
                "    [keras.layers.Dense(10, input_shape=(784,), activation=\"sigmoid\")]\r\n",
                ")\r\n",
                "#compile the model\r\n",
                "model.compile(\r\n",
                "    optimizer=\"adam\",\r\n",
                "    loss=\"sparse_categorical_crossentropy\",\r\n",
                "    metrics=['accuracy']\r\n",
                ")\r\n",
                "\r\n",
                "#Train the model\r\n",
                "model.fit(x_train_flattened, y_train, epochs=5)"
            ],
            "outputs": [
                {
                    "output_type": "stream",
                    "name": "stdout",
                    "text": [
                        "Epoch 1/5\n",
                        "1875/1875 [==============================] - 12s 5ms/step - loss: 0.7150 - accuracy: 0.8155\n",
                        "Epoch 2/5\n",
                        "1875/1875 [==============================] - 12s 6ms/step - loss: 0.3108 - accuracy: 0.9137\n",
                        "Epoch 3/5\n",
                        "1875/1875 [==============================] - 10s 5ms/step - loss: 0.2822 - accuracy: 0.9208\n",
                        "Epoch 4/5\n",
                        "1875/1875 [==============================] - 10s 5ms/step - loss: 0.2665 - accuracy: 0.9245\n",
                        "Epoch 5/5\n",
                        "1875/1875 [==============================] - 9s 5ms/step - loss: 0.2627 - accuracy: 0.9261\n"
                    ]
                },
                {
                    "output_type": "execute_result",
                    "data": {
                        "text/plain": [
                            "<tensorflow.python.keras.callbacks.History at 0x269b6701ac0>"
                        ]
                    },
                    "metadata": {},
                    "execution_count": 30
                }
            ],
            "metadata": {}
        },
        {
            "cell_type": "code",
            "execution_count": 31,
            "source": [
                "#Evaluate the model with test dataset\r\n",
                "model.evaluate(x_test_flattened, y_test)"
            ],
            "outputs": [
                {
                    "output_type": "stream",
                    "name": "stdout",
                    "text": [
                        "313/313 [==============================] - 4s 7ms/step - loss: 0.2681 - accuracy: 0.9263\n"
                    ]
                },
                {
                    "output_type": "execute_result",
                    "data": {
                        "text/plain": [
                            "[0.26809629797935486, 0.9262999892234802]"
                        ]
                    },
                    "metadata": {},
                    "execution_count": 31
                }
            ],
            "metadata": {}
        },
        {
            "cell_type": "code",
            "execution_count": 33,
            "source": [
                "plt.matshow(x_test[0])"
            ],
            "outputs": [
                {
                    "output_type": "execute_result",
                    "data": {
                        "text/plain": [
                            "<matplotlib.image.AxesImage at 0x269c4c42bb0>"
                        ]
                    },
                    "metadata": {},
                    "execution_count": 33
                },
                {
                    "output_type": "display_data",
                    "data": {
                        "text/plain": [
                            "<Figure size 288x288 with 1 Axes>"
                        ],
                        "image/png": "[encoded data removed]"
                    },
                    "metadata": {
                        "needs_background": "light"
                    }
                }
            ],
            "metadata": {}
        },
        {
            "cell_type": "code",
            "execution_count": 32,
            "source": [
                "#Test the model with prediction\r\n",
                "y_predicted_output = model.predict(x_test_flattened)\r\n",
                "y_predicted_output[0]#It returns the accuracy value for all the 9 digits and among these we need to findout the value which has maximum value."
            ],
            "outputs": [
                {
                    "output_type": "execute_result",
                    "data": {
                        "text/plain": [
                            "array([3.1447172e-02, 3.6611436e-07, 4.4000059e-02, 9.6203494e-01,\n",
                            "       2.3764074e-03, 1.2637502e-01, 1.8640935e-06, 9.9979579e-01,\n",
                            "       1.1742574e-01, 7.2311282e-01], dtype=float32)"
                        ]
                    },
                    "metadata": {},
                    "execution_count": 32
                }
            ],
            "metadata": {}
        },
        {
            "cell_type": "code",
            "execution_count": 34,
            "source": [
                "#Inorder to find out the maximum value in the array\r\n",
                "np.argmax(y_predicted_output[0])"
            ],
            "outputs": [
                {
                    "output_type": "execute_result",
                    "data": {
                        "text/plain": [
                            "7"
                        ]
                    },
                    "metadata": {},
                    "execution_count": 34
                }
            ],
            "metadata": {}
        },
        {
            "cell_type": "code",
            "execution_count": 39,
            "source": [
                "#List out the predicted output labels and check with the actual y_test dataset\r\n",
                "y_predicted_output_labels = [np.argmax(i) for i in y_predicted_output]\r\n",
                "y_predicted_output_labels[0:5]"
            ],
            "outputs": [
                {
                    "output_type": "execute_result",
                    "data": {
                        "text/plain": [
                            "[7, 2, 1, 0, 4]"
                        ]
                    },
                    "metadata": {},
                    "execution_count": 39
                }
            ],
            "metadata": {}
        },
        {
            "cell_type": "code",
            "execution_count": 38,
            "source": [
                "#check the y_predicted_output_labels with the actual y_test dataset.\r\n",
                "y_test[0:5]"
            ],
            "outputs": [
                {
                    "output_type": "execute_result",
                    "data": {
                        "text/plain": [
                            "array([7, 2, 1, 0, 4], dtype=uint8)"
                        ]
                    },
                    "metadata": {},
                    "execution_count": 38
                }
            ],
            "metadata": {}
        },
        {
            "cell_type": "code",
            "execution_count": 40,
            "source": [
                "#To get the detailed view of the neural network model we built, plot the confusion matrix\r\n",
                "conf_matrix = tf.math.confusion_matrix(labels = y_test, predictions = y_predicted_output_labels)\r\n",
                "conf_matrix"
            ],
            "outputs": [
                {
                    "output_type": "execute_result",
                    "data": {
                        "text/plain": [
                            "<tf.Tensor: shape=(10, 10), dtype=int32, numpy=\n",
                            "array([[ 963,    0,    0,    2,    0,    6,    5,    2,    2,    0],\n",
                            "       [   0, 1109,    3,    2,    0,    1,    4,    2,   14,    0],\n",
                            "       [   7,    9,  915,   17,    8,    6,   13,   11,   41,    5],\n",
                            "       [   4,    0,   15,  909,    0,   36,    2,   10,   25,    9],\n",
                            "       [   1,    1,    2,    2,  917,    0,   12,    4,   10,   33],\n",
                            "       [   9,    2,    2,   21,    6,  803,   15,    4,   24,    6],\n",
                            "       [  12,    3,    5,    1,    7,   18,  908,    2,    2,    0],\n",
                            "       [   1,    5,   20,    7,    9,    2,    0,  942,    4,   38],\n",
                            "       [   6,    7,    5,   20,    9,   34,    8,    9,  868,    8],\n",
                            "       [  11,    7,    1,   11,   23,    8,    0,   13,    6,  929]])>"
                        ]
                    },
                    "metadata": {},
                    "execution_count": 40
                }
            ],
            "metadata": {}
        },
        {
            "cell_type": "code",
            "execution_count": 45,
            "source": [
                "#Inorder to plot the confusion matrix with great visulization details you need to use 'heatmap()' method in 'seaborn' module.\r\n",
                "import seaborn as sn\r\n",
                "sn.heatmap(conf_matrix, annot=True, fmt='d')\r\n",
                "plt.xlabel('Predicted')\r\n",
                "plt.ylabel('Truth')"
            ],
            "outputs": [
                {
                    "output_type": "execute_result",
                    "data": {
                        "text/plain": [
                            "Text(33.0, 0.5, 'Truth')"
                        ]
                    },
                    "metadata": {},
                    "execution_count": 45
                },
                {
                    "output_type": "display_data",
                    "data": {
                        "text/plain": [
                            "<Figure size 432x288 with 2 Axes>"
                        ],
                        "image/png": "[encoded data removed]"
                    },
                    "metadata": {
                        "needs_background": "light"
                    }
                }
            ],
            "metadata": {}
        },
        {
            "cell_type": "code",
            "execution_count": 63,
            "source": [
                "#Inorder to achieve more accurated model you need to build a neural network with hidden layer\r\n",
                "model_with_hidden_layer = keras.Sequential(\r\n",
                "    [\r\n",
                "        keras.layers.Dense(100, input_shape=(784,), activation=\"relu\"),#hidden layer\r\n",
                "        keras.layers.Dense(10, input_shape=(100, ), activation=\"sigmoid\"),#ouput layer\r\n",
                "    ]\r\n",
                ")\r\n",
                "#compile the model``\r\n",
                "model_with_hidden_layer.compile(\r\n",
                "    optimizer=\"adam\",\r\n",
                "    loss=\"sparse_categorical_crossentropy\",\r\n",
                "    metrics=['accuracy']\r\n",
                ")\r\n",
                "#fit (or) train the model\r\n",
                "model_with_hidden_layer.fit(x_train_flattened, y_train, epochs=5)"
            ],
            "outputs": [
                {
                    "output_type": "stream",
                    "name": "stdout",
                    "text": [
                        "Epoch 1/5\n",
                        "1875/1875 [==============================] - 17s 8ms/step - loss: 0.4725 - accuracy: 0.8658\n",
                        "Epoch 2/5\n",
                        "1875/1875 [==============================] - 21s 11ms/step - loss: 0.1397 - accuracy: 0.9589\n",
                        "Epoch 3/5\n",
                        "1875/1875 [==============================] - 20s 11ms/step - loss: 0.0884 - accuracy: 0.9737\n",
                        "Epoch 4/5\n",
                        "1875/1875 [==============================] - 19s 10ms/step - loss: 0.0658 - accuracy: 0.9803\n",
                        "Epoch 5/5\n",
                        "1875/1875 [==============================] - 15s 8ms/step - loss: 0.0526 - accuracy: 0.9844\n"
                    ]
                },
                {
                    "output_type": "execute_result",
                    "data": {
                        "text/plain": [
                            "<tensorflow.python.keras.callbacks.History at 0x269bdc4fc70>"
                        ]
                    },
                    "metadata": {},
                    "execution_count": 63
                }
            ],
            "metadata": {}
        },
        {
            "cell_type": "code",
            "execution_count": 64,
            "source": [
                "#evaluate the newly created model having hidden layer\r\n",
                "model_with_hidden_layer.evaluate(x_test_flattened, y_test)"
            ],
            "outputs": [
                {
                    "output_type": "stream",
                    "name": "stdout",
                    "text": [
                        "313/313 [==============================] - 4s 8ms/step - loss: 0.0902 - accuracy: 0.9706\n"
                    ]
                },
                {
                    "output_type": "execute_result",
                    "data": {
                        "text/plain": [
                            "[0.09022898972034454, 0.9706000089645386]"
                        ]
                    },
                    "metadata": {},
                    "execution_count": 64
                }
            ],
            "metadata": {}
        },
        {
            "cell_type": "code",
            "execution_count": 65,
            "source": [
                "#predict the output based on the test data\r\n",
                "y_predicted_output_for_model_with_hidden_layer = model_with_hidden_layer.predict(x_test_flattened)\r\n",
                "y_predicted_output_for_model_with_hidden_layer[0]"
            ],
            "outputs": [
                {
                    "output_type": "execute_result",
                    "data": {
                        "text/plain": [
                            "array([4.3682218e-02, 1.3771653e-04, 2.2714520e-01, 9.3358028e-01,\n",
                            "       8.8221868e-06, 1.2637377e-02, 3.9174114e-07, 9.9999273e-01,\n",
                            "       1.7839727e-01, 3.1412274e-02], dtype=float32)"
                        ]
                    },
                    "metadata": {},
                    "execution_count": 65
                }
            ],
            "metadata": {}
        },
        {
            "cell_type": "code",
            "execution_count": 66,
            "source": [
                "np.argmax(y_predicted_output_for_model_with_hidden_layer[0])"
            ],
            "outputs": [
                {
                    "output_type": "execute_result",
                    "data": {
                        "text/plain": [
                            "7"
                        ]
                    },
                    "metadata": {},
                    "execution_count": 66
                }
            ],
            "metadata": {}
        },
        {
            "cell_type": "code",
            "execution_count": 67,
            "source": [
                "y_predicted_output_for_model_with_hidden_layer_labels = [np.argmax(i) for i in y_predicted_output_for_model_with_hidden_layer]\r\n",
                "y_predicted_output_for_model_with_hidden_layer_labels[0:5]"
            ],
            "outputs": [
                {
                    "output_type": "execute_result",
                    "data": {
                        "text/plain": [
                            "[7, 2, 1, 0, 4]"
                        ]
                    },
                    "metadata": {},
                    "execution_count": 67
                }
            ],
            "metadata": {}
        },
        {
            "cell_type": "code",
            "execution_count": 68,
            "source": [
                "confusion_matrix = tf.math.confusion_matrix(y_test, y_predicted_output_for_model_with_hidden_layer_labels)\r\n",
                "confusion_matrix"
            ],
            "outputs": [
                {
                    "output_type": "execute_result",
                    "data": {
                        "text/plain": [
                            "<tf.Tensor: shape=(10, 10), dtype=int32, numpy=\n",
                            "array([[ 970,    0,    2,    2,    1,    2,    1,    1,    1,    0],\n",
                            "       [   0, 1116,    3,    2,    0,    2,    2,    0,   10,    0],\n",
                            "       [   6,    2,  995,   10,    4,    0,    2,    6,    7,    0],\n",
                            "       [   0,    0,    0,  978,    0,   22,    0,    4,    4,    2],\n",
                            "       [   1,    0,    4,    0,  971,    0,    0,    2,    1,    3],\n",
                            "       [   2,    0,    0,    3,    1,  880,    3,    0,    2,    1],\n",
                            "       [   7,    2,    1,    1,    8,   22,  912,    0,    5,    0],\n",
                            "       [   1,    7,   10,   10,    2,    0,    0,  992,    3,    3],\n",
                            "       [   3,    0,    3,    6,    7,   11,    0,    2,  939,    3],\n",
                            "       [   0,    2,    0,   10,   18,   15,    1,    5,    5,  953]])>"
                        ]
                    },
                    "metadata": {},
                    "execution_count": 68
                }
            ],
            "metadata": {}
        },
        {
            "cell_type": "code",
            "execution_count": 69,
            "source": [
                "sn.heatmap(confusion_matrix, annot=True, fmt='d')\r\n",
                "plt.xlabel('predicted')\r\n",
                "plt.ylabel('truth')"
            ],
            "outputs": [
                {
                    "output_type": "execute_result",
                    "data": {
                        "text/plain": [
                            "Text(33.0, 0.5, 'truth')"
                        ]
                    },
                    "metadata": {},
                    "execution_count": 69
                },
                {
                    "output_type": "display_data",
                    "data": {
                        "text/plain": [
                            "<Figure size 432x288 with 2 Axes>"
                        ],
                        "image/png": "[encoded data removed]"
                    },
                    "metadata": {
                        "needs_background": "light"
                    }
                }
            ],
            "metadata": {}
        },
        {
            "cell_type": "code",
            "execution_count": 5,
            "source": [
                "#Way to build a neural network without flatten the data externely\r\n",
                "model3 = keras.Sequential(\r\n",
                "    [\r\n",
                "        keras.layers.Flatten(input_shape=(28, 28)),#input layer\r\n",
                "        keras.layers.Dense(100, input_shape=(784,), activation=\"relu\"), #hidden layer\r\n",
                "        keras.layers.Dense(10, input_shape=(100,), activation=\"sigmoid\") #output layer\r\n",
                "    ]\r\n",
                ")\r\n",
                "#compile the model\r\n",
                "model3.compile(\r\n",
                "    optimizer=\"adam\",\r\n",
                "    loss=\"sparse_categorical_crossentropy\",\r\n",
                "    metrics=['accuracy']\r\n",
                ")\r\n",
                "#train the model with x_test\r\n",
                "model3.fit(x_test, y_test, epochs=5)"
            ],
            "outputs": [
                {
                    "output_type": "stream",
                    "name": "stdout",
                    "text": [
                        "313/313 [==============================] - 5s 7ms/step - loss: 20.5803 - accuracy: 0.6942\n"
                    ]
                },
                {
                    "output_type": "execute_result",
                    "data": {
                        "text/plain": [
                            "<tensorflow.python.keras.callbacks.History at 0x173a88410d0>"
                        ]
                    },
                    "metadata": {},
                    "execution_count": 5
                }
            ],
            "metadata": {}
        }
    ],
    "metadata": {
        "orig_nbformat": 4,
        "language_info": {
            "name": "python",
            "version": "3.8.2",
            "mimetype": "text/x-python",
            "codemirror_mode": {
                "name": "ipython",
                "version": 3
            },
            "pygments_lexer": "ipython3",
            "nbconvert_exporter": "python",
            "file_extension": ".py"
        },
        "kernelspec": {
            "name": "python3",
            "display_name": "Python 3.8.2 64-bit"
        },
        "interpreter": {
            "hash": "04dab57e78248bc5235021efaca3862c9054ea03675166f084d8c1a7ef1d3271"
        }
    },
    "nbformat": 4,
    "nbformat_minor": 2
}